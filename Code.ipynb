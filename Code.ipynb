{
 "cells": [
  {
   "cell_type": "code",
   "execution_count": null,
   "metadata": {},
   "outputs": [],
   "source": [
    "import docplex.mp\n",
    "from docplex.mp.model import Model\n",
    "import math"
   ]
  },
  {
   "cell_type": "markdown",
   "metadata": {},
   "source": [
    "# input data about link travel time"
   ]
  },
  {
   "cell_type": "code",
   "execution_count": null,
   "metadata": {},
   "outputs": [],
   "source": [
    "link = open(\"link1\",\"r\")\n",
    "filelines = link.read().splitlines()\n",
    "link = dict()\n",
    "for i in range(1,len(filelines)):\n",
    "    a = filelines[i]\n",
    "    link[a[0:a.index(',')],a[a.index(',')+1:a.index(':')]]= int(a[a.index(':')+1:])\n",
    "    link[a[a.index(',')+1:a.index(':')],a[0:a.index(',')]]= int(a[a.index(':')+1:])\n",
    "link"
   ]
  },
  {
   "cell_type": "markdown",
   "metadata": {},
   "source": [
    "# input data about route information"
   ]
  },
  {
   "cell_type": "code",
   "execution_count": null,
   "metadata": {},
   "outputs": [],
   "source": [
    "route = open(\"route2\",\"r\")\n",
    "filelines = route.read().splitlines()\n",
    "path = dict()\n",
    "for i in range(1,len(filelines)):\n",
    "    a = filelines[i]\n",
    "    path[a[0:a.index(':')]]= a[a.index(':')+1:]\n",
    "path"
   ]
  },
  {
   "cell_type": "markdown",
   "metadata": {},
   "source": [
    "calculate the turnover time for each bus route "
   ]
  },
  {
   "cell_type": "code",
   "execution_count": null,
   "metadata": {},
   "outputs": [],
   "source": [
    "path_cost = dict()\n",
    "for i in path.keys():\n",
    "    path_cost[i] = 2\n",
    "for i in path.keys():\n",
    "    a = path[i].split(',')\n",
    "    b = 0\n",
    "    while b <len(a)-1:\n",
    "        path_cost[i] += link[a[b],a[b+1]]+2\n",
    "        b+=1\n",
    "for i in path.keys():\n",
    "    path_cost[i] = path_cost[i]\n",
    "path_cost"
   ]
  },
  {
   "cell_type": "markdown",
   "metadata": {},
   "source": [
    "# input data about OD matrix"
   ]
  },
  {
   "cell_type": "code",
   "execution_count": null,
   "metadata": {},
   "outputs": [],
   "source": [
    "OD = open(\"OD\",\"r\")\n",
    "filelines = OD.read().splitlines()\n",
    "odpair = dict()\n",
    "for i in range(1,len(filelines)):\n",
    "    a = filelines[i]\n",
    "    odpair[a[0:a.index(',')],a[a.index(',')+1:a.index(':')]]=a[a.index(':')+1:]\n",
    "odpair    "
   ]
  },
  {
   "cell_type": "markdown",
   "metadata": {},
   "source": [
    "set the K value for each bus route"
   ]
  },
  {
   "cell_type": "code",
   "execution_count": null,
   "metadata": {},
   "outputs": [],
   "source": [
    "K = dict()\n",
    "for p in path.keys():\n",
    "    a = 0\n",
    "    for i in path[p].split(','):\n",
    "        try:\n",
    "            if int(i)>0:\n",
    "                a+=1\n",
    "                K[p,i]=a  \n",
    "        except:\n",
    "            continue\n",
    "K"
   ]
  },
  {
   "cell_type": "markdown",
   "metadata": {},
   "source": [
    "#  find the optimal passengers' travel paths based on transfer time"
   ]
  },
  {
   "cell_type": "code",
   "execution_count": null,
   "metadata": {},
   "outputs": [],
   "source": [
    "travel = dict()\n",
    "for od in odpair.keys():\n",
    "    path_number = 0\n",
    "    travel[od] = dict()\n",
    "    O = []\n",
    "    D = []\n",
    "    for p in path.keys():\n",
    "        if od[0] in path[p].split(','):\n",
    "            O.append(p)\n",
    "        if od[1] in path[p].split(','):\n",
    "            D.append(p)\n",
    "#     无换乘\n",
    "    print('起点路线:',O,'终点路线:',D)\n",
    "    a=list(set(O)&set(D))\n",
    "    for b in a:\n",
    "        if K[b,od[0]]<K[b,od[1]]:\n",
    "            path_number += 1\n",
    "            print('OD: %s,无换乘线路: %s,起点:%s,终点:%s' %(od,str(b),str(od[0]),str(od[1])))\n",
    "            path_list = path[b].split(',')\n",
    "            i = path[b].split(',').index(od[0])\n",
    "            travel_list = [path_list[i]]\n",
    "            cost = 0\n",
    "            while i != path[b].split(',').index(od[1]):\n",
    "                \n",
    "                print(link[str(path_list[i]),str(path_list[i+1])])\n",
    "                travel_list.append(path_list[i+1])\n",
    "                cost += link[str(path_list[i]),str(path_list[i+1])]\n",
    "                i += 1\n",
    "            travel_list.append('成本:'+ str(cost))\n",
    "            travel[od][path_number] = travel_list\n",
    "            \n",
    "    #     一次换乘    \n",
    "    for o in O:\n",
    "            for d in D:  \n",
    "                if d != o:\n",
    "                    commonstation = []\n",
    "                    common_stations = list(set(path[o].split(','))&set(path[d].split(',')))\n",
    "                    if len(common_stations) != 0:    \n",
    "                        for a in common_stations:\n",
    "                            if K[o,od[0]]<K[o,a] and K[d,od[1]]>K[d,a]:\n",
    "                                if a != od[0] and a != od[1]:\n",
    "                                    path_number += 1\n",
    "                                    print('OD: %s,一次换乘线路: %s-%s,在站点%s换乘，起点:%s,终点:%s' %(od,o,d,a,str(od[0]),str(od[1])))\n",
    "                                    path_list = path[o].split(',')\n",
    "                                    i = path[o].split(',').index(od[0])\n",
    "                                    travel_list = [path_list[i]]\n",
    "                                    cost = 0\n",
    "                                    while i != path[o].split(',').index(a):\n",
    "\n",
    "                                        print(link[str(path_list[i]),str(path_list[i+1])])\n",
    "                                        travel_list.append(path_list[i+1])\n",
    "                                        cost += link[str(path_list[i]),str(path_list[i+1])]\n",
    "                                        i += 1\n",
    "                                    path_list = path[d].split(',')\n",
    "                                    i = path_list.index(a)\n",
    "                                    cost += 3\n",
    "                                    while i != path[d].split(',').index(od[1]):\n",
    "\n",
    "                                        print(link[str(path_list[i]),str(path_list[i+1])])\n",
    "                                        travel_list.append(path_list[i+1])\n",
    "                                        cost += link[str(path_list[i]),str(path_list[i+1])]\n",
    "                                        i += 1    \n",
    "                                    travel_list.append('成本:'+ str(cost))\n",
    "                                    travel[od][path_number] = travel_list\n",
    "        #     两次换乘\n",
    "    for o in O:\n",
    "        for d in D:\n",
    "            for p in path.keys():\n",
    "                cs_op = []\n",
    "                cs_pd = []\n",
    "                if p != o and p != d and o != d:\n",
    "                    cs_op = list(set(path[o].split(','))&set(path[p].split(',')))\n",
    "                    cs_pd = list(set(path[d].split(','))&set(path[p].split(',')))\n",
    "                if len(cs_op)!= 0 and len(cs_pd)!= 0:\n",
    "                    for i in cs_op:\n",
    "                        for k in cs_pd:\n",
    "                            if K[p,i]<K[p,k]:\n",
    "                                if K[o,od[0]]<K[o,i] and K[d,k]<K[d,od[1]]:\n",
    "                                    if i != od[0] and i != od[1] and k != od[0] and k != od[1]:\n",
    "                                        path_number += 1\n",
    "                                        print('OD: %s,两次换乘线路: %s-%s-%s,在站点%s和%s换乘，起点:%s,终点:%s' %(od,o,p,d,i,k,str(od[0]),str(od[1])))\n",
    "                                        path_list = path[o].split(',')\n",
    "                                        t = path[o].split(',').index(od[0])\n",
    "                                        travel_list = [path_list[t]]\n",
    "                                        cost = 0\n",
    "                                        while t != path[o].split(',').index(i):\n",
    "\n",
    "                                            print(link[str(path_list[t]),str(path_list[t+1])])\n",
    "                                            travel_list.append(path_list[t+1])\n",
    "                                            cost += link[str(path_list[t]),str(path_list[t+1])]\n",
    "                                            t += 1\n",
    "                                        path_list = path[p].split(',')\n",
    "                                        t = path_list.index(i)\n",
    "                                        cost += 3\n",
    "                                        while t != path[p].split(',').index(k):\n",
    "\n",
    "                                            print(link[str(path_list[t]),str(path_list[t+1])])\n",
    "                                            travel_list.append(path_list[t+1])\n",
    "                                            cost += link[str(path_list[t]),str(path_list[t+1])]\n",
    "                                            t += 1    \n",
    "                                        path_list = path[d].split(',')\n",
    "                                        t = path_list.index(k)\n",
    "                                        cost += 3\n",
    "                                        while t != path[d].split(',').index(od[1]):\n",
    "\n",
    "                                            print(link[str(path_list[t]),str(path_list[t+1])])\n",
    "                                            travel_list.append(path_list[t+1])\n",
    "                                            cost += link[str(path_list[t]),str(path_list[t+1])]\n",
    "                                            t += 1    \n",
    "                                        travel_list.append('成本:'+ str(cost))                                        \n",
    "                                        travel[od][path_number] = travel_list\n",
    "            #     三次换乘\n",
    "    for o in O:\n",
    "        for d in D:\n",
    "            for p in path.keys():\n",
    "                for q in path.keys():\n",
    "                    cs_op = []\n",
    "                    cs_pq = []\n",
    "                    cs_qd = []\n",
    "                    if p != o and p != d and q != o and q != d and q != p and o!=d:\n",
    "                        cs_op = list(set(path[o].split(','))&set(path[p].split(',')))\n",
    "                        cs_pq = list(set(path[p].split(','))&set(path[q].split(',')))\n",
    "                        cs_qd = list(set(path[q].split(','))&set(path[d].split(',')))\n",
    "                        if len(cs_op)!= 0 and len(cs_pq)!= 0 and len(cs_qd)!= 0:\n",
    "                            for i in cs_op:\n",
    "                                for k in cs_pq:\n",
    "                                    for z in cs_qd:\n",
    "                                        if i not in [od[0],od[1]] and k not in [od[0],od[1]] and z not in [od[0],od[1]]:\n",
    "                                            if K[o,od[0]]<K[o,i] and K[p,i]<K[p,k] and K[q,k]<K[q,z] and K[d,z]<K[d,od[1]]: \n",
    "                                                if i != z:\n",
    "                                                    path_number += 1\n",
    "                                                    print('OD: %s,三次换乘线路: %s-%s-%s-%s,在站点%s和%s和%s换乘，起点:%s,终点:%s' %(str(od),str(o),str(p),str(q),str(d),str(i),str(k),str(z),str(od[0]),str(od[1])))       \n",
    "                                                    path_list = path[o].split(',')\n",
    "                                                    t = path[o].split(',').index(od[0])\n",
    "                                                    travel_list = [path_list[t]]\n",
    "                                                    cost = 0\n",
    "                                                    while t != path[o].split(',').index(i):\n",
    "\n",
    "                                                        print(link[str(path_list[t]),str(path_list[t+1])])\n",
    "                                                        travel_list.append(path_list[t+1])\n",
    "                                                        cost += link[str(path_list[t]),str(path_list[t+1])]\n",
    "                                                        t += 1\n",
    "                                                    path_list = path[p].split(',')\n",
    "                                                    t = path_list.index(i)\n",
    "                                                    cost += 3\n",
    "                                                    while t != path[p].split(',').index(k):\n",
    "\n",
    "                                                        print(link[str(path_list[t]),str(path_list[t+1])])\n",
    "                                                        travel_list.append(path_list[t+1])\n",
    "                                                        cost += link[str(path_list[t]),str(path_list[t+1])]\n",
    "                                                        t += 1   \n",
    "                                                    path_list = path[q].split(',')\n",
    "                                                    t = path_list.index(k)\n",
    "                                                    cost += 3\n",
    "                                                    while t != path[q].split(',').index(z):\n",
    "\n",
    "                                                        print(link[str(path_list[t]),str(path_list[t+1])])\n",
    "                                                        travel_list.append(path_list[t+1])\n",
    "                                                        cost += link[str(path_list[t]),str(path_list[t+1])]\n",
    "                                                        t += 1\n",
    "                                                    path_list = path[d].split(',')\n",
    "                                                    t = path_list.index(z)\n",
    "                                                    cost += 3\n",
    "                                                    while t != path[d].split(',').index(od[1]):\n",
    "\n",
    "                                                        print(link[str(path_list[t]),str(path_list[t+1])])\n",
    "                                                        travel_list.append(path_list[t+1])\n",
    "                                                        cost += link[str(path_list[t]),str(path_list[t+1])]\n",
    "                                                        t += 1    \n",
    "                                                    travel_list.append('成本:'+ str(cost))                                        \n",
    "                                                    travel[od][path_number] = travel_list\n"
   ]
  },
  {
   "cell_type": "markdown",
   "metadata": {},
   "source": [
    "calcualte the travel time for each passengers' path"
   ]
  },
  {
   "cell_type": "code",
   "execution_count": null,
   "metadata": {},
   "outputs": [],
   "source": [
    "for od in odpair.keys():\n",
    "    for i in range(1,len(travel[od])+1):\n",
    "           travel[od][i][-1] = '成本:'+ str(int(travel[od][i][-1].split(':')[-1])+(len(travel[od][i])-1)*2)\n",
    "    print(od,travel[od])"
   ]
  },
  {
   "cell_type": "markdown",
   "metadata": {},
   "source": [
    "calculate the path flow for each passengers' path"
   ]
  },
  {
   "cell_type": "code",
   "execution_count": null,
   "metadata": {},
   "outputs": [],
   "source": [
    "for od in odpair.keys():\n",
    "    de = 0\n",
    "    for i in range(1,len(travel[od])+1):\n",
    "        a = int(travel[od][i][-1].split(':')[-1])\n",
    "        de += math.exp(-1*a)\n",
    "    for i in range(1,len(travel[od])+1):\n",
    "        a = int(travel[od][i][-1].split(':')[-1])\n",
    "        \n",
    "        h = (int(odpair[od])*math.exp(-a))/de\n",
    "        travel[od][i].append('流量:'+str(h))"
   ]
  },
  {
   "cell_type": "markdown",
   "metadata": {},
   "source": [
    "calculate the total system travel time "
   ]
  },
  {
   "cell_type": "code",
   "execution_count": null,
   "metadata": {},
   "outputs": [],
   "source": [
    "ch = 0\n",
    "for od in odpair.keys():   \n",
    "    for i in range(1,len(travel[od])+1):  \n",
    "        h = float(travel[od][i][-1].split(':')[-1])\n",
    "        c = float(travel[od][i][-2].split(':')[-1])\n",
    "        ch += c*h\n",
    "print(ch)"
   ]
  },
  {
   "cell_type": "markdown",
   "metadata": {},
   "source": [
    "calculate the flow on each bus link"
   ]
  },
  {
   "cell_type": "code",
   "execution_count": null,
   "metadata": {},
   "outputs": [],
   "source": [
    "link_flow = dict()\n",
    "for l in link.keys():\n",
    "     link_flow[l] = 0\n",
    "for od in odpair.keys():\n",
    "    for i in range(1,len(travel[od])+1):\n",
    "        a = travel[od][i][0:-2]\n",
    "        b = 0\n",
    "        h = float(travel[od][i][-1].split(':')[-1])\n",
    "        while b < len(a)-1:\n",
    "            link_flow[a[b],a[b+1]] += h\n",
    "            b += 1\n",
    "for l in link.keys():\n",
    "     if link_flow[l] == 0:\n",
    "        link_flow.pop(l)\n",
    "link_flow        "
   ]
  },
  {
   "cell_type": "markdown",
   "metadata": {},
   "source": [
    "set bus routes"
   ]
  },
  {
   "cell_type": "code",
   "execution_count": null,
   "metadata": {},
   "outputs": [],
   "source": [
    "a = list(path.keys())\n",
    "for i in a:\n",
    "    if i not in ['1', '2','3', '4']:\n",
    "        path.pop(i)\n",
    "path"
   ]
  },
  {
   "cell_type": "markdown",
   "metadata": {},
   "source": [
    "the bus link belongs to what bus routes "
   ]
  },
  {
   "cell_type": "code",
   "execution_count": null,
   "metadata": {},
   "outputs": [],
   "source": [
    "route_frequency = dict()\n",
    "for l in link.keys():\n",
    "    route_frequency[l] = []\n",
    "for i in path.keys():\n",
    "    a= path[i].split(',')\n",
    "    b= 0\n",
    "    c = 1\n",
    "    while b < len(a)-1:\n",
    "        route_frequency[a[b],a[b+1]].append(i)\n",
    "        b += 1\n",
    "for l in link.keys():\n",
    "     if len(route_frequency[l])==0:\n",
    "        route_frequency.pop(l)\n",
    "route_frequency"
   ]
  },
  {
   "cell_type": "markdown",
   "metadata": {},
   "source": [
    "calculate the flow on each bus link"
   ]
  },
  {
   "cell_type": "code",
   "execution_count": null,
   "metadata": {},
   "outputs": [],
   "source": [
    "a = list(link_flow.keys())\n",
    "for i in a:\n",
    "    if i not in route_frequency.keys():\n",
    "        link_flow.pop(i)\n",
    "link_flow"
   ]
  },
  {
   "cell_type": "markdown",
   "metadata": {},
   "source": [
    "Cplex package for calculate the linear pragramming problem"
   ]
  },
  {
   "cell_type": "code",
   "execution_count": null,
   "metadata": {},
   "outputs": [],
   "source": [
    "m = Model(name='route')\n",
    "f = m.continuous_var_dict(path.keys(),name='f')\n",
    "d = m.continuous_var_dict(link_flow.keys(),name='d')\n",
    "for i in f.keys():\n",
    "    m.add_constraint(f[i]>=0)\n",
    "for i in d.keys():\n",
    "    m.add_constraint(d[i]>=0)\n",
    "for i in link_flow.keys():\n",
    "    a = m.sum(f[j] for j in route_frequency[i])\n",
    "    m.add_constraint(link_flow[i]-d[i]-50*a <=0 )\n",
    "\n",
    "a = m.sum(path_cost[j]*f[j] for j in path.keys())\n",
    "m.add_constraint(f['1']==f['2'])\n",
    "m.add_constraint(f['3']==f['4'])\n",
    "m.add_constraint(a<=70)\n",
    "a = m.sum(d[i] for i in d.keys())\n",
    "m.minimize(20 * a+ch)\n",
    "m.print_information()   "
   ]
  },
  {
   "cell_type": "code",
   "execution_count": null,
   "metadata": {},
   "outputs": [],
   "source": [
    "s = m.solve()\n",
    "m.print_solution(print_zeros=True)"
   ]
  },
  {
   "cell_type": "code",
   "execution_count": null,
   "metadata": {},
   "outputs": [],
   "source": [
    "(s.objective_value-ch)"
   ]
  },
  {
   "cell_type": "code",
   "execution_count": null,
   "metadata": {},
   "outputs": [],
   "source": [
    "ch"
   ]
  },
  {
   "cell_type": "code",
   "execution_count": null,
   "metadata": {},
   "outputs": [],
   "source": []
  },
  {
   "cell_type": "code",
   "execution_count": null,
   "metadata": {},
   "outputs": [],
   "source": [
    "# for od in odpair.keys():\n",
    "#     O = []\n",
    "#     D = []\n",
    "#     for p in path.keys():\n",
    "#         if od[0] in path[p].split(','):\n",
    "#             O.append(p)\n",
    "#         if od[1] in path[p].split(','):\n",
    "#             D.append(p)\n",
    "# #     无换乘\n",
    "#     print('起点路线:',O,'终点路线:',D)\n",
    "#     a=list(set(O)&set(D))\n",
    "#     for b in a:\n",
    "#         if K[b,od[0]]<K[b,od[1]]:\n",
    "#             print('OD: %s,无换乘线路: %s,起点:%s,终点:%s' %(od,str(b),str(od[0]),str(od[1])))\n",
    "#             path\n",
    "            \n",
    "# #     一次换乘    \n",
    "#     for o in O:\n",
    "#             for d in D:  \n",
    "#                 if d != o:\n",
    "#                     commonstation = []\n",
    "#                     common_stations = list(set(path[o].split(','))&set(path[d].split(',')))\n",
    "#                     if len(common_stations) != 0:    \n",
    "#                         for a in common_stations:\n",
    "#                             if K[o,od[0]]<K[o,a] and K[d,od[1]]>K[d,a]:\n",
    "#                                 if a != od[0] and a != od[1]:\n",
    "#                                     print('OD: %s,一次换乘线路: %s-%s,在站点%s换乘，起点:%s,终点:%s' %(od,o,d,a,str(od[0]),str(od[1])))\n",
    "# #     两次换乘\n",
    "#     for o in O:\n",
    "#         for d in D:\n",
    "#             for p in path.keys():\n",
    "#                 cs_op = []\n",
    "#                 cs_pd = []\n",
    "#                 if p != o and p != d and o != d:\n",
    "#                     cs_op = list(set(path[o].split(','))&set(path[p].split(',')))\n",
    "#                     cs_pd = list(set(path[d].split(','))&set(path[p].split(',')))\n",
    "#                 if len(cs_op)!= 0 and len(cs_pd)!= 0:\n",
    "#                     for i in cs_op:\n",
    "#                         for k in cs_pd:\n",
    "#                             if K[p,i]<K[p,k]:\n",
    "#                                 if K[o,od[0]]<K[o,i] and K[d,k]<K[d,od[1]]:\n",
    "#                                     if i != od[0] and i != od[1] and k != od[0] and k != od[1]:\n",
    "#                                         print('OD: %s,两次换乘线路: %s-%s-%s,在站点%s和%s换乘，起点:%s,终点:%s' %(od,o,p,d,i,k,str(od[0]),str(od[1])))\n",
    "#     #     三次换乘\n",
    "#     for o in O:\n",
    "#         for d in D:\n",
    "#             for p in path.keys():\n",
    "#                 for q in path.keys():\n",
    "#                     cs_op = []\n",
    "#                     cs_pq = []\n",
    "#                     cs_qd = []\n",
    "#                     if p != o and p != d and q != o and q != d and q != p and o!=d:\n",
    "#                         cs_op = list(set(path[o].split(','))&set(path[p].split(',')))\n",
    "#                         cs_pq = list(set(path[p].split(','))&set(path[q].split(',')))\n",
    "#                         cs_qd = list(set(path[q].split(','))&set(path[d].split(',')))\n",
    "#                         if len(cs_op)!= 0 and len(cs_pq)!= 0 and len(cs_qd)!= 0:\n",
    "#                             for i in cs_op:\n",
    "#                                 for k in cs_pq:\n",
    "#                                     for z in cs_qd:\n",
    "#                                         if i not in [od[0],od[1]] and k not in [od[0],od[1]] and z not in [od[0],od[1]]:\n",
    "#                                             if K[o,od[0]]<K[o,i] and K[p,i]<K[p,k] and K[q,k]<K[q,z] and K[d,z]<K[d,od[1]]: \n",
    "#                                                 if i != z:\n",
    "#                                                     print('OD: %s,三次换乘线路: %s-%s-%s-%s,在站点%s和%s和%s换乘，起点:%s,终点:%s' %(str(od),str(o),str(p),str(q),str(d),str(i),str(k),str(z),str(od[0]),str(od[1])))                                                       "
   ]
  }
 ],
 "metadata": {
  "hide_input": false,
  "kernelspec": {
   "display_name": "Python 3",
   "language": "python",
   "name": "python3"
  },
  "language_info": {
   "codemirror_mode": {
    "name": "ipython",
    "version": 3
   },
   "file_extension": ".py",
   "mimetype": "text/x-python",
   "name": "python",
   "nbconvert_exporter": "python",
   "pygments_lexer": "ipython3",
   "version": "3.7.6"
  },
  "toc": {
   "base_numbering": 1,
   "nav_menu": {},
   "number_sections": true,
   "sideBar": true,
   "skip_h1_title": false,
   "title_cell": "Table of Contents",
   "title_sidebar": "Contents",
   "toc_cell": false,
   "toc_position": {},
   "toc_section_display": true,
   "toc_window_display": false
  },
  "varInspector": {
   "cols": {
    "lenName": 16,
    "lenType": 16,
    "lenVar": 40
   },
   "kernels_config": {
    "python": {
     "delete_cmd_postfix": "",
     "delete_cmd_prefix": "del ",
     "library": "var_list.py",
     "varRefreshCmd": "print(var_dic_list())"
    },
    "r": {
     "delete_cmd_postfix": ") ",
     "delete_cmd_prefix": "rm(",
     "library": "var_list.r",
     "varRefreshCmd": "cat(var_dic_list()) "
    }
   },
   "types_to_exclude": [
    "module",
    "function",
    "builtin_function_or_method",
    "instance",
    "_Feature"
   ],
   "window_display": false
  }
 },
 "nbformat": 4,
 "nbformat_minor": 4
}
